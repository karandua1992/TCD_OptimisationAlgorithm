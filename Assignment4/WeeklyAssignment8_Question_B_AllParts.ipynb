{
 "cells": [
  {
   "cell_type": "markdown",
   "id": "c3b84c17",
   "metadata": {},
   "source": [
    "### Import Libraries"
   ]
  },
  {
   "cell_type": "code",
   "execution_count": null,
   "id": "02985bf4",
   "metadata": {},
   "outputs": [],
   "source": [
    "import numpy as np\n",
    "import time\n",
    "import random\n",
    "import matplotlib.pyplot as plot"
   ]
  },
  {
   "cell_type": "markdown",
   "id": "2537b3d7",
   "metadata": {},
   "source": [
    "### Functions from Week 4"
   ]
  },
  {
   "cell_type": "markdown",
   "id": "5e8570ab",
   "metadata": {},
   "source": [
    "### Function 1: 1*(x-2)^4+6*(y-9)^2"
   ]
  },
  {
   "cell_type": "code",
   "execution_count": null,
   "id": "a11cb449",
   "metadata": {},
   "outputs": [],
   "source": [
    "class Function1 :\n",
    "    \n",
    "    def get_quadratic_equation_value(self, x, y) : \n",
    "        value = ((x - 2) ** 4) + (6 * ((y - 9) ** 2))\n",
    "        return value\n",
    "    \n",
    "    def get_quadratic_equation_derivative_value(self, x, y) : \n",
    "        derivative_x_value = 4 * ((x - 2) ** 3)\n",
    "        derivative_y_value = (12 * y) - 108\n",
    "        return derivative_x_value, derivative_y_value\n",
    "    "
   ]
  },
  {
   "cell_type": "markdown",
   "id": "cf30e332",
   "metadata": {},
   "source": [
    "### Function 2: Max(x-2,0)+6*|y-9|"
   ]
  },
  {
   "cell_type": "code",
   "execution_count": null,
   "id": "9fffe5af",
   "metadata": {},
   "outputs": [],
   "source": [
    "class Function2 :\n",
    "    \n",
    "    def get_quadratic_equation_value(self, x, y) : \n",
    "        value = (max((x - 2), 0)) + (6 * np.abs(y - 9))\n",
    "        return value\n",
    "    \n",
    "    def get_quadratic_equation_derivative_value(self, x, y) : \n",
    "        derivative_x_value = np.heaviside((x - 2), 1)\n",
    "        derivative_y_value = 6 * np.sign(y - 9)\n",
    "        return derivative_x_value, derivative_y_value\n",
    "    "
   ]
  },
  {
   "cell_type": "markdown",
   "id": "752e8ed5",
   "metadata": {},
   "source": [
    "###  Implement the Global Random Seach, Global Population Search and Gradient Descent algorithm "
   ]
  },
  {
   "cell_type": "code",
   "execution_count": null,
   "id": "fbcb9e50",
   "metadata": {},
   "outputs": [],
   "source": [
    "class Global_Random_Population_Search : \n",
    "    \n",
    "    def execute_global_random_search(self, function_object, num_parameters = 2, lower_bound = [0,0], upper_bound = [5,5], num_samples = 100) : \n",
    "        \n",
    "        cost_iteration = []\n",
    "        time_iteration = []\n",
    "        optimised_cost = float('inf')\n",
    "        optimised_params = None\n",
    "        params_iteration = []\n",
    "        \n",
    "        start_time = time.time() * 1000\n",
    "        \n",
    "        for i in range(num_samples) : \n",
    "            \n",
    "            parameter_x, parameter_y = [random.uniform(lower_bound[j], upper_bound[j]) for j in range(num_parameters)]\n",
    "            current_cost = function_object.get_quadratic_equation_value(parameter_x, parameter_y)\n",
    "            \n",
    "            if current_cost < optimised_cost : \n",
    "                optimised_cost = current_cost\n",
    "                optimised_params = [parameter_x, parameter_y]\n",
    "            \n",
    "            params_iteration.append(optimised_params)\n",
    "            cost_iteration.append(optimised_cost)\n",
    "            time_iteration.append((time.time() * 1000) - start_time)\n",
    "            \n",
    "        return cost_iteration, time_iteration, params_iteration\n",
    "    \n",
    "    \n",
    "    \n",
    "    def execute_global_population_search(self, function_object, num_parameters = 2, lower_bound = [0,0], upper_bound = [5,5], \n",
    "                                         num_samples = 100, M_best_params = 10, num_iterations = 200) : \n",
    "        \n",
    "        cost_iteration = []\n",
    "        time_iteration = []\n",
    "        optimised_cost = float('inf')\n",
    "        start_time = time.time() * 1000\n",
    "        optimised_params = None\n",
    "        params_iteration = []\n",
    "        \n",
    "        n_sample_cost = []\n",
    "        \n",
    "        for i in range(num_samples) : \n",
    "            \n",
    "            parameter_x, parameter_y = [random.uniform(lower_bound[j], upper_bound[j]) for j in range(num_parameters)]\n",
    "            current_cost = function_object.get_quadratic_equation_value(parameter_x, parameter_y)\n",
    "            \n",
    "            if current_cost < optimised_cost : \n",
    "                optimised_cost = current_cost\n",
    "                optimised_params = [parameter_x, parameter_y]\n",
    "            \n",
    "            n_sample_cost.append(optimised_cost)\n",
    "            cost_iteration.append(optimised_cost)\n",
    "            params_iteration.append([parameter_x, parameter_y])\n",
    "            time_iteration.append((time.time() * 1000) - start_time)\n",
    "            \n",
    "        for _ in range(num_iterations) : \n",
    "            print(f'num_iterations: {_}')\n",
    "            best_cost = sorted(n_sample_cost)[:M_best_params]\n",
    "            best_params = [params_iteration[n_sample_cost.index(cost)] for cost in n_sample_cost]\n",
    "            \n",
    "            best_cost_iteration = []\n",
    "            best_param_iteration = []\n",
    "            best_time_iteration = []\n",
    "            \n",
    "            for best_params in best_params : \n",
    "                for _ in range(num_samples) : \n",
    "                    sample_parameter_x, sample_parameter_y = [random.uniform(best_params[j] - (upper_bound[j] - lower_bound[j]) \n",
    "                                * 0.1, best_params[j] + (upper_bound[j] - lower_bound[j]) * 0.1) for j in range(num_parameters)]\n",
    "                    sample_cost = function_object.get_quadratic_equation_value(sample_parameter_x, sample_parameter_y)\n",
    "\n",
    "                    if sample_cost < optimised_cost : \n",
    "                        optimised_cost = sample_cost\n",
    "                        optimised_params = [sample_parameter_x, sample_parameter_y]\n",
    "\n",
    "                    best_cost_iteration.append(optimised_cost)\n",
    "                    cost_iteration.append(optimised_cost)\n",
    "                    best_param_iteration.append(optimised_params)\n",
    "                    best_time_iteration.append(time.time() - start_time)\n",
    "            \n",
    "            params_iteration.extend(best_param_iteration)\n",
    "            n_sample_cost = best_cost_iteration\n",
    "            time_iteration.extend(best_time_iteration)\n",
    "            \n",
    "        return cost_iteration, time_iteration, params_iteration\n",
    "    \n",
    "    \n",
    "    \n",
    "    def execute_gradient_descent(self, function_object, starting_point_x = 1, starting_point_y = 1, alpha = 1, num_iterations = 50) : \n",
    "    \n",
    "        x_point = starting_point_x\n",
    "        y_point = starting_point_y\n",
    "        function_values = []\n",
    "        time_iteration = []\n",
    "        start_time = time.time() * 1000\n",
    "        \n",
    "        for _ in range(num_iterations) : \n",
    "            \n",
    "            function_values.append(function_object.get_quadratic_equation_value(x_point, y_point))\n",
    "            \n",
    "            derivative_x_value, derivative_y_value = function_object.get_quadratic_equation_derivative_value(x_point, y_point)\n",
    "            x_point = x_point - (alpha * derivative_x_value)\n",
    "            y_point = y_point - (alpha * derivative_y_value)\n",
    "            \n",
    "            time_iteration.append((time.time() * 1000) - start_time)\n",
    "            \n",
    "           \n",
    "        return function_values, time_iteration\n",
    "        "
   ]
  },
  {
   "cell_type": "markdown",
   "id": "0e8eae73",
   "metadata": {},
   "source": [
    "#### Executing Global Random Search for Function 1: 1*(x-2)^4+6*(y-9)^2"
   ]
  },
  {
   "cell_type": "code",
   "execution_count": null,
   "id": "2159d09c",
   "metadata": {},
   "outputs": [],
   "source": [
    "function1 = Function1()\n",
    "grs = Global_Random_Population_Search()\n",
    "\n",
    "num_parameters = 2\n",
    "lower_bound = [0, 0]\n",
    "upper_bound = [10, 10]\n",
    "num_iterations = 250\n",
    "\n",
    "grs_cost_iteration_func1, grs_time_iteration_func1, grs_param_iteration_func1 = grs.execute_global_random_search(function_object = function1, num_parameters = num_parameters, lower_bound = lower_bound, upper_bound = upper_bound, num_samples = num_iterations)"
   ]
  },
  {
   "cell_type": "markdown",
   "id": "9cac754d",
   "metadata": {},
   "source": [
    "#### Executing Global Population Search for Function 1: 1*(x-2)^4+6*(y-9)^2"
   ]
  },
  {
   "cell_type": "code",
   "execution_count": null,
   "id": "530802ad",
   "metadata": {},
   "outputs": [],
   "source": [
    "function1 = Function1()\n",
    "grs = Global_Random_Population_Search()\n",
    "\n",
    "num_parameters = 2\n",
    "lower_bound = [0, 0]\n",
    "upper_bound = [10, 10]\n",
    "num_samples = 200\n",
    "M_best_params = 10\n",
    "num_iterations = 250\n",
    "\n",
    "gps_cost_iteration_func1, gps_time_iteration_func1, gps_param_iteration_func1 = grs.execute_global_population_search(function_object = function1, num_parameters = num_parameters, lower_bound = lower_bound, upper_bound = upper_bound,  num_samples = num_samples, M_best_params = M_best_params, num_iterations = num_iterations)"
   ]
  },
  {
   "cell_type": "markdown",
   "id": "2ba94239",
   "metadata": {},
   "source": [
    "#### Executing Gradient Descent for Function 1: 1*(x-2)^4+6*(y-9)^2"
   ]
  },
  {
   "cell_type": "code",
   "execution_count": null,
   "id": "615b4dff",
   "metadata": {},
   "outputs": [],
   "source": [
    "function1 = Function1()\n",
    "grs = Global_Random_Population_Search()plot.figure(figsize=(11, 6), dpi=150)\n",
    "plot.semilogy(range(num_iterations), grs_cost_iteration_func1, color = 'cyan', label = 'Global Random Search')\n",
    "plot.semilogy(range(num_iterations), gps_cost_iteration_func1, color = 'yellow', label = 'Global Population Search')\n",
    "plot.semilogy(range(num_iterations), gd_cost_iteration_func1, color = 'red', label = 'Gradient Descent')\n",
    "plot.xlabel('#Iteration')\n",
    "plot.ylabel('Cost')\n",
    "plot.title('Plot of Function Cost vs. Iteration for GRS vs. Gradient Descent for Function 1: (x - 2)^4 + 6*(y - 9)^2') \n",
    "plot.yscale(\"log\")\n",
    "plot.legend()\n",
    "plot.show()\n",
    "\n",
    "starting_point_x = 5\n",
    "starting_point_y = 5\n",
    "alpha = 0.01\n",
    "num_iterations = 250\n",
    "\n",
    "\n",
    "gd_cost_iteration_func1, gd_time_iteration_func1 = grs.execute_gradient_descent(function1, starting_point_x, starting_point_y, alpha, num_iterations)"
   ]
  },
  {
   "cell_type": "markdown",
   "id": "c9ac3f25",
   "metadata": {},
   "source": [
    "#### Plots for Function 1: 1*(x-2)^4+6*(y-9)^2"
   ]
  },
  {
   "cell_type": "code",
   "execution_count": null,
   "id": "58b59c67",
   "metadata": {},
   "outputs": [],
   "source": [
    "plot.figure(figsize=(11, 6), dpi=150)\n",
    "plot.semilogy(range(num_iterations), grs_cost_iteration_func1, color = 'cyan', label = 'Global Random Search')\n",
    "plot.semilogy(range(num_iterations), gps_cost_iteration_func1, color = 'yellow', label = 'Global Population Search')\n",
    "plot.semilogy(range(num_iterations), gd_cost_iteration_func1, color = 'red', label = 'Gradient Descent')\n",
    "plot.xlabel('#Iteration')\n",
    "plot.ylabel('Cost')\n",
    "plot.title('Plot of Function Cost vs. Iteration for GRS vs. Gradient Descent for Function 1: (x - 2)^4 + 6*(y - 9)^2') \n",
    "plot.yscale(\"log\")\n",
    "plot.legend()\n",
    "plot.show()"
   ]
  },
  {
   "cell_type": "code",
   "execution_count": null,
   "id": "a849cef0",
   "metadata": {
    "scrolled": false
   },
   "outputs": [],
   "source": [
    "plot.figure(figsize=(11, 6), dpi=150)\n",
    "plot.semilogy(grs_time_iteration_func1, grs_cost_iteration_func1, color = 'cyan', label = 'Global Random Search')\n",
    "plot.semilogy(gps_time_iteration_func1, gps_cost_iteration_func1, color = 'yellow', label = 'Global Population Search')\n",
    "plot.semilogy(gd_time_iteration_func1, gd_cost_iteration_func1, color = 'red', label = 'Gradient Descent')\n",
    "plot.xlabel('Time in Microseconds')\n",
    "plot.ylabel('Cost')\n",
    "plot.title('Plot of Function Cost vs. Time for GRS vs. Gradient Descent for Function 1: (x - 2)^4 + 6*(y - 9)^2') \n",
    "plot.yscale(\"log\")\n",
    "plot.legend()\n",
    "plot.show()"
   ]
  },
  {
   "cell_type": "markdown",
   "id": "7bd9b4f9",
   "metadata": {},
   "source": [
    "#### Executing Global Random Search for Function 2: Max(x-2,0)+6*|y-9|"
   ]
  },
  {
   "cell_type": "code",
   "execution_count": null,
   "id": "a9ea80dc",
   "metadata": {},
   "outputs": [],
   "source": [
    "function2 = Function2()\n",
    "grs = Global_Random_Population_Search()\n",
    "\n",
    "num_parameters = 2\n",
    "lower_bound = [0, 0]\n",
    "upper_bound = [10, 10]\n",
    "num_iterations = 250\n",
    "\n",
    "grs_cost_iteration_func2, grs_time_iteration_func2 = grs.execute_global_random_search(function_object = function2, num_parameters = num_parameters, lower_bound = lower_bound, upper_bound = upper_bound, num_samples = num_iterations)"
   ]
  },
  {
   "cell_type": "markdown",
   "id": "ff421df5",
   "metadata": {},
   "source": [
    "#### Executing Population Random Search for Function 2: Max(x-2,0)+6*|y-9|"
   ]
  },
  {
   "cell_type": "code",
   "execution_count": null,
   "id": "14500d29",
   "metadata": {},
   "outputs": [],
   "source": [
    "function2 = Function2()\n",
    "grs = Global_Random_Population_Search()\n",
    "num_parameters = 2\n",
    "lower_bound = [0, 0]\n",
    "upper_bound = [10, 10]\n",
    "num_samples = 200\n",
    "M_best_params = 10\n",
    "num_iterations = 250\n",
    "gps_cost_iteration_func2, gps_time_iteration_func2, gps_param_iteration_func2 = grs.execute_global_population_search(function_object = function2, num_parameters = num_parameters, lower_bound = lower_bound, upper_bound = upper_bound,  num_samples = num_samples, M_best_params = M_best_params, num_iterations = num_iterations)"
   ]
  },
  {
   "cell_type": "markdown",
   "id": "01a5d85b",
   "metadata": {},
   "source": [
    "#### Executing Gradient Descent for Function 2: Max(x-2,0)+6*|y-9|"
   ]
  },
  {
   "cell_type": "code",
   "execution_count": null,
   "id": "c72e4f41",
   "metadata": {},
   "outputs": [],
   "source": [
    "function2 = Function2()\n",
    "grs = Global_Random_Population_Search()\n",
    "\n",
    "starting_point_x = 5\n",
    "starting_point_y = 5\n",
    "alpha = 0.01\n",
    "num_iterations = 250\n",
    "\n",
    "\n",
    "gd_cost_iteration_func2, gd_time_iteration_func2 = grs.execute_gradient_descent(function2, starting_point_x, starting_point_y, alpha, num_iterations)"
   ]
  },
  {
   "cell_type": "markdown",
   "id": "904b0cd6",
   "metadata": {},
   "source": [
    "#### Plots for Function 2: Max(x-2,0)+6*|y-9|"
   ]
  },
  {
   "cell_type": "code",
   "execution_count": null,
   "id": "3049dda5",
   "metadata": {},
   "outputs": [],
   "source": [
    "plot.figure(figsize=(11, 6), dpi=150)\n",
    "plot.semilogy(range(num_iterations), grs_cost_iteration_func2, color = 'cyan', label = 'Global Random Search')\n",
    "plot.semilogy(range(num_iterations), gd_cost_iteration_func2, color = 'red', label = 'Gradient Descent')\n",
    "plot.xlabel('#Iteration')\n",
    "plot.ylabel('Cost')\n",
    "plot.title('Plot of Function Cost vs. Iteration for GRS vs. Gradient Descent for Function 2: Max(0, x - 2) + 6*Abs(y - 9)') \n",
    "plot.yscale(\"log\")\n",
    "plot.legend()\n",
    "plot.show()"
   ]
  },
  {
   "cell_type": "code",
   "execution_count": null,
   "id": "e55fdded",
   "metadata": {},
   "outputs": [],
   "source": [
    "plot.figure(figsize=(11, 6), dpi=150)\n",
    "plot.semilogy(grs_time_iteration_func2, grs_cost_iteration_func2, color = 'cyan', label = 'Global Random Search')\n",
    "plot.semilogy(gd_time_iteration_func2, gd_cost_iteration_func2, color = 'red', label = 'Gradient Descent')\n",
    "plot.xlabel('Time in Microseconds')\n",
    "plot.ylabel('Cost')\n",
    "plot.title('Plot of Function Cost vs. Time for GRS vs. Gradient Descent for Function 2: Max(0, x - 2) + 6*Abs(y - 9)') \n",
    "plot.yscale(\"log\")\n",
    "plot.legend()\n",
    "plot.show()"
   ]
  },
  {
   "cell_type": "code",
   "execution_count": null,
   "id": "7ab2ef58",
   "metadata": {},
   "outputs": [],
   "source": []
  }
 ],
 "metadata": {
  "kernelspec": {
   "display_name": "Python 3",
   "language": "python",
   "name": "python3"
  },
  "language_info": {
   "codemirror_mode": {
    "name": "ipython",
    "version": 3
   },
   "file_extension": ".py",
   "mimetype": "text/x-python",
   "name": "python",
   "nbconvert_exporter": "python",
   "pygments_lexer": "ipython3",
   "version": "3.8.8"
  }
 },
 "nbformat": 4,
 "nbformat_minor": 5
}
