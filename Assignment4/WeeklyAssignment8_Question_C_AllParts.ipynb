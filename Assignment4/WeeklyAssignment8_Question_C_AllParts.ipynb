{
 "cells": [
  {
   "cell_type": "markdown",
   "id": "c3b84c17",
   "metadata": {},
   "source": [
    "### Import Libraries"
   ]
  },
  {
   "cell_type": "code",
   "execution_count": null,
   "id": "02985bf4",
   "metadata": {},
   "outputs": [],
   "source": [
    "import numpy as np\n",
    "import time\n",
    "import random\n",
    "import matplotlib.pyplot as plot\n",
    "from tensorflow import keras\n",
    "from tensorflow.keras import layers, regularizers\n",
    "from keras.layers import Dense, Dropout, Activation, Flatten, BatchNormalization\n",
    "from keras.layers import Conv2D, MaxPooling2D, LeakyReLU\n",
    "from keras.losses import CategoricalCrossentropy\n",
    "from tensorflow.keras.optimizers import Adam\n",
    "from sklearn.metrics import confusion_matrix, classification_report\n",
    "from sklearn.utils import shuffle"
   ]
  },
  {
   "cell_type": "markdown",
   "id": "2537b3d7",
   "metadata": {},
   "source": [
    "### Function downloaded from the link provided"
   ]
  },
  {
   "cell_type": "code",
   "execution_count": null,
   "id": "a11cb449",
   "metadata": {},
   "outputs": [],
   "source": [
    "class Function1 :\n",
    "        \n",
    "    def cnn_function(self, paramters):\n",
    "        batch_size, alpha, beta1, beta2, epochs = paramters\n",
    "        batch_size = int(batch_size)\n",
    "        epochs = int(epochs)\n",
    "        (x_train, y_train), (x_test, y_test) = keras.datasets.cifar10.load_data()\n",
    "        n = 5000\n",
    "        x_train = x_train[1:n]\n",
    "        y_train = y_train[1:n]\n",
    "        num_classes = 10\n",
    "        input_shape = (32, 32, 3)\n",
    "        x_train = x_train.astype(\"float32\") / 255\n",
    "        x_test = x_test.astype(\"float32\") / 255\n",
    "        y_train = keras.utils.to_categorical(y_train, num_classes)\n",
    "        y_test = keras.utils.to_categorical(y_test, num_classes)\n",
    "        model = keras.Sequential()\n",
    "        model.add(Conv2D(16, (3, 3), padding='same',\n",
    "        input_shape=x_train.shape[1:], activation='relu'))\n",
    "        model.add(Conv2D(16, (3, 3), strides=(2, 2), padding='same', activation='relu'))\n",
    "        model.add(Conv2D(32, (3, 3), padding='same', activation='relu'))\n",
    "        model.add(Conv2D(32, (3, 3), strides=(2, 2), padding='same', activation='relu'))\n",
    "        model.add(Dropout(0.5))\n",
    "        model.add(Flatten())\n",
    "        model.add(Dense(num_classes, activation='softmax',\n",
    "        kernel_regularizer=regularizers.l1(0.0001)))\n",
    "        optimizer = Adam(learning_rate=alpha, beta_1=beta1, beta_2=beta2)\n",
    "        model.compile(loss=\"categorical_crossentropy\", optimizer=optimizer,\n",
    "        metrics=[\"accuracy\"])\n",
    "        history = model.fit(x_train, y_train, batch_size=batch_size, epochs=epochs,\n",
    "        validation_split=0.1, verbose=0)\n",
    "        y_preds = model.predict(x_test)\n",
    "        loss = CategoricalCrossentropy()\n",
    "        return loss(y_test, y_preds).numpy()\n",
    "    "
   ]
  },
  {
   "cell_type": "markdown",
   "id": "752e8ed5",
   "metadata": {},
   "source": [
    "###  Implement the Global Random Seach and Global Population Search "
   ]
  },
  {
   "cell_type": "code",
   "execution_count": null,
   "id": "fbcb9e50",
   "metadata": {},
   "outputs": [],
   "source": [
    "class Global_Random_Population_Search : \n",
    "    \n",
    "    def execute_global_random_search(self, function_object, num_parameters = 2, lower_bound = [0,0], upper_bound = [5,5], num_samples = 100) : \n",
    "        \n",
    "        cost_iteration = []\n",
    "        time_iteration = []\n",
    "        optimised_cost = float('inf')\n",
    "        optimised_params = None\n",
    "        params_iteration = []\n",
    "        \n",
    "        start_time = time.time() * 1000\n",
    "        \n",
    "        for i in range(num_samples) : \n",
    "            print(f'num_samples:{i}')\n",
    "            parameter = [random.uniform(lower_bound[j], upper_bound[j]) for j in range(num_parameters)]\n",
    "            current_cost = function_object.cnn_function(parameter)\n",
    "            \n",
    "            if current_cost < optimised_cost : \n",
    "                optimised_cost = current_cost\n",
    "                optimised_params = parameter\n",
    "            \n",
    "            params_iteration.append(optimised_params)\n",
    "            cost_iteration.append(optimised_cost)\n",
    "            time_iteration.append((time.time() * 1000) - start_time)\n",
    "            \n",
    "        return cost_iteration, time_iteration, params_iteration\n",
    "    \n",
    "    \n",
    "    \n",
    "     def execute_global_population_search(self, function_object, num_parameters = 2, lower_bound = [0,0], upper_bound = [5,5], num_samples = 100, M_best_params = 10, num_iterations = 200) : \n",
    "        \n",
    "        cost_iteration = []\n",
    "        time_iteration = []\n",
    "        optimised_cost = float('inf')\n",
    "        start_time = time.time() * 1000\n",
    "        optimised_params = None\n",
    "        params_iteration = []\n",
    "        \n",
    "        n_sample_cost = []\n",
    "        \n",
    "        for i in range(num_samples) : \n",
    "            \n",
    "            parameter_x, parameter_y = [random.uniform(lower_bound[j], upper_bound[j]) for j in range(num_parameters)]\n",
    "            current_cost = function_object.get_quadratic_equation_value(parameter_x, parameter_y)\n",
    "            \n",
    "            if current_cost < optimised_cost : \n",
    "                optimised_cost = current_cost\n",
    "                optimised_params = [parameter_x, parameter_y]\n",
    "            \n",
    "            n_sample_cost.append(optimised_cost)\n",
    "            cost_iteration.append(optimised_cost)\n",
    "            params_iteration.append([parameter_x, parameter_y])\n",
    "            time_iteration.append((time.time() * 1000) - start_time)\n",
    "            \n",
    "        for _ in range(num_iterations) : \n",
    "            print(f'num_iterations: {_}')\n",
    "            best_cost = sorted(n_sample_cost)[:M_best_params]\n",
    "            best_params = [params_iteration[n_sample_cost.index(cost)] for cost in n_sample_cost]\n",
    "            \n",
    "            best_cost_iteration = []\n",
    "            best_param_iteration = []\n",
    "            best_time_iteration = []\n",
    "            \n",
    "            for best_params in best_params : \n",
    "                for _ in range(num_samples) : \n",
    "                    sample_parameter_x, sample_parameter_y = [random.uniform(best_params[j] - (upper_bound[j] - lower_bound[j]) * 0.1, best_params[j] + (upper_bound[j] - lower_bound[j]) * 0.1) for j in range(num_parameters)]\n",
    "                    sample_cost = function_object.get_quadratic_equation_value(sample_parameter_x, sample_parameter_y)\n",
    "\n",
    "                    if sample_cost < optimised_cost : \n",
    "                        optimised_cost = sample_cost\n",
    "                        optimised_params = [sample_parameter_x, sample_parameter_y]\n",
    "\n",
    "                    best_cost_iteration.append(optimised_cost)\n",
    "                    cost_iteration.append(optimised_cost)\n",
    "                    best_param_iteration.append(optimised_params)\n",
    "                    best_time_iteration.append(time.time() - start_time)\n",
    "            \n",
    "            params_iteration.extend(best_param_iteration)\n",
    "            n_sample_cost = best_cost_iteration\n",
    "            time_iteration.extend(best_time_iteration)\n",
    "            \n",
    "        return cost_iteration, time_iteration, params_iteration\n",
    "\n",
    "\n"
   ]
  },
  {
   "cell_type": "markdown",
   "id": "0e8eae73",
   "metadata": {},
   "source": [
    "#### Executing Global Random Search for CNN Function"
   ]
  },
  {
   "cell_type": "code",
   "execution_count": null,
   "id": "2159d09c",
   "metadata": {},
   "outputs": [],
   "source": [
    "function1 = Function1()\n",
    "grs = Global_Random_Population_Search()\n",
    "\n",
    "num_parameters = 5\n",
    "lower_bound = [16, 0.0001,0.25,0.9,10]\n",
    "upper_bound = [64,0.01,0.9,0.999,20]\n",
    "num_iterations = 100\n",
    "\n",
    "grs_cost_iteration_func1, grs_time_iteration_func1, grs_param_iteration_func1 = grs.execute_global_random_search(function_object = function1, num_parameters = num_parameters, lower_bound = lower_bound, upper_bound = upper_bound, num_samples = num_iterations)"
   ]
  },
  {
   "cell_type": "markdown",
   "id": "9cac754d",
   "metadata": {},
   "source": [
    "#### Executing Global Population Search for CNN Function"
   ]
  },
  {
   "cell_type": "code",
   "execution_count": null,
   "id": "530802ad",
   "metadata": {},
   "outputs": [],
   "source": [
    "function1 = Function1()\n",
    "grs = Global_Random_Population_Search()\n",
    "\n",
    "num_parameters = 2\n",
    "lower_bound = [0, 0]\n",
    "upper_bound = [10, 10]\n",
    "num_samples = 200\n",
    "M_best_params = 10\n",
    "num_iterations = 200\n",
    "\n",
    "gps_cost_iteration_func1, gps_time_iteration_func1, gps_param_iteration_func1 = grs.execute_global_population_search(function_object = function1, num_parameters = num_parameters, lower_bound = lower_bound, upper_bound = upper_bound,  num_samples = 10, M_best_params = 2, num_iterations = 5)"
   ]
  },
  {
   "cell_type": "markdown",
   "id": "c9ac3f25",
   "metadata": {},
   "source": [
    "#### Plots for CNN Function"
   ]
  },
  {
   "cell_type": "code",
   "execution_count": null,
   "id": "58b59c67",
   "metadata": {},
   "outputs": [],
   "source": [
    "plot.figure(figsize=(11, 6), dpi=150)\n",
    "plot.semilogy(range(num_iterations), grs_cost_iteration_func1, color = 'cyan', label = 'Global Random Search')\n",
    "plot.semilogy(range(num_iterations), gps_cost_iteration_func1, color = 'yellow', label = 'Global Population Search')\n",
    "plot.xlabel('#Iteration')\n",
    "plot.ylabel('Cost')\n",
    "plot.title('Plot of Function Cost vs. Iteration for GRS vs. GPS for CNN Function') \n",
    "plot.yscale(\"log\")\n",
    "plot.legend()\n",
    "plot.show()"
   ]
  }
 ],
 "metadata": {
  "kernelspec": {
   "display_name": "Python 3",
   "language": "python",
   "name": "python3"
  },
  "language_info": {
   "codemirror_mode": {
    "name": "ipython",
    "version": 3
   },
   "file_extension": ".py",
   "mimetype": "text/x-python",
   "name": "python",
   "nbconvert_exporter": "python",
   "pygments_lexer": "ipython3",
   "version": "3.8.8"
  }
 },
 "nbformat": 4,
 "nbformat_minor": 5
}
