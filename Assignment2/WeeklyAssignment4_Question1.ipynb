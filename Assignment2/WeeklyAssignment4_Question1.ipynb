{
 "cells": [
  {
   "cell_type": "markdown",
   "id": "f5649dac",
   "metadata": {},
   "source": [
    "### Loading libraries"
   ]
  },
  {
   "cell_type": "code",
   "execution_count": 1,
   "id": "2c459761",
   "metadata": {},
   "outputs": [],
   "source": [
    "import numpy as np\n",
    "import matplotlib.pyplot as plot\n",
    "import sympy as sm"
   ]
  },
  {
   "cell_type": "markdown",
   "id": "4ffc6e98",
   "metadata": {},
   "source": [
    "### Question 1(a): Get Quadratic Equation and Derivative for Function 1: 1*(x-2)^4+6*(y-9)^2"
   ]
  },
  {
   "cell_type": "code",
   "execution_count": 2,
   "id": "14d98479",
   "metadata": {},
   "outputs": [],
   "source": [
    "class Function1 :\n",
    "    \n",
    "    def get_quadratic_equation_symbolic(self) : \n",
    "        x = sm.symbols('x', real = True)\n",
    "        y = sm.symbols('y', real = True)\n",
    "        f = (1 * ((x - 2) ** 4)) + (6 * ((y - 9) ** 2))\n",
    "        return f\n",
    "    \n",
    "    def get_quadratic_equation_derivative_wrt_x_symbolic(self) : \n",
    "        x = sm.symbols('x', real = True)\n",
    "        f = self.get_quadratic_equation_symbolic()\n",
    "        derivative_x = sm.diff(f, x)\n",
    "        return derivative_x\n",
    "    \n",
    "    def get_quadratic_equation_derivative_wrt_y_symbolic(self) : \n",
    "        y = sm.symbols('y', real = True)\n",
    "        f = self.get_quadratic_equation_symbolic()\n",
    "        derivative_y = sm.diff(f, y)\n",
    "        return derivative_y"
   ]
  },
  {
   "cell_type": "code",
   "execution_count": 3,
   "id": "e03f1f89",
   "metadata": {},
   "outputs": [
    {
     "name": "stdout",
     "output_type": "stream",
     "text": [
      "Quadratic equation for Function 1 is: (x - 2)**4 + 6*(y - 9)**2\n",
      "Derivative for f = (x - 2)**4 + 6*(y - 9)**2 with respect to x is: 4*(x - 2)**3\n",
      "Derivative for f = (x - 2)**4 + 6*(y - 9)**2 with respect to y is: 12*y - 108\n"
     ]
    }
   ],
   "source": [
    "function1 = Function1()\n",
    "f = function1.get_quadratic_equation_symbolic()\n",
    "print(f\"Quadratic equation for Function 1 is: {f}\")\n",
    "\n",
    "derivative_df_dx = function1.get_quadratic_equation_derivative_wrt_x_symbolic()\n",
    "print(f\"Derivative for f = {f} with respect to x is: {derivative_df_dx}\")\n",
    "\n",
    "derivative_df_dy = function1.get_quadratic_equation_derivative_wrt_y_symbolic()\n",
    "print(f\"Derivative for f = {f} with respect to y is: {derivative_df_dy}\")"
   ]
  },
  {
   "cell_type": "markdown",
   "id": "5b0eddb2",
   "metadata": {},
   "source": [
    "### Question 1(b): Get Quadratic Equation and Derivative for Function 2: Max(x-2,0)+6*|y-9|"
   ]
  },
  {
   "cell_type": "code",
   "execution_count": 4,
   "id": "1e883868",
   "metadata": {},
   "outputs": [],
   "source": [
    "class Function2 :\n",
    "    \n",
    "    def get_quadratic_equation_symbolic(self) : \n",
    "        x = sm.symbols('x', real = True)\n",
    "        y = sm.symbols('y', real = True)\n",
    "        f = (sm.Max(x - 2, 0)) + (6 * (sm.Abs(y - 9)))\n",
    "        return f\n",
    "    \n",
    "    def get_quadratic_equation_derivative_wrt_x_symbolic(self) : \n",
    "        x = sm.symbols('x', real = True)\n",
    "        f = self.get_quadratic_equation_symbolic()\n",
    "        derivative_x = sm.diff(f, x)\n",
    "        return derivative_x\n",
    "    \n",
    "    def get_quadratic_equation_derivative_wrt_y_symbolic(self) : \n",
    "        y = sm.symbols('y', real = True)\n",
    "        f = self.get_quadratic_equation_symbolic()\n",
    "        derivative_y = sm.diff(f, y)\n",
    "        return derivative_y"
   ]
  },
  {
   "cell_type": "code",
   "execution_count": 5,
   "id": "0edf1ad9",
   "metadata": {},
   "outputs": [
    {
     "name": "stdout",
     "output_type": "stream",
     "text": [
      "Quadratic equation for Function 2 is: 6*Abs(y - 9) + Max(0, x - 2)\n",
      "Derivative for f = 6*Abs(y - 9) + Max(0, x - 2) with respect to x is: Heaviside(x - 2)\n",
      "Derivative for f = 6*Abs(y - 9) + Max(0, x - 2) with respect to y is: 6*sign(y - 9)\n"
     ]
    }
   ],
   "source": [
    "function2 = Function2()\n",
    "f = function2.get_quadratic_equation_symbolic()\n",
    "print(f\"Quadratic equation for Function 2 is: {f}\")\n",
    "\n",
    "derivative_df_dx = function2.get_quadratic_equation_derivative_wrt_x_symbolic()\n",
    "print(f\"Derivative for f = {f} with respect to x is: {derivative_df_dx}\")\n",
    "\n",
    "derivative_df_dy = function2.get_quadratic_equation_derivative_wrt_y_symbolic()\n",
    "print(f\"Derivative for f = {f} with respect to y is: {derivative_df_dy}\")\n",
    "\n"
   ]
  }
 ],
 "metadata": {
  "kernelspec": {
   "display_name": "Python 3",
   "language": "python",
   "name": "python3"
  },
  "language_info": {
   "codemirror_mode": {
    "name": "ipython",
    "version": 3
   },
   "file_extension": ".py",
   "mimetype": "text/x-python",
   "name": "python",
   "nbconvert_exporter": "python",
   "pygments_lexer": "ipython3",
   "version": "3.8.8"
  }
 },
 "nbformat": 4,
 "nbformat_minor": 5
}
